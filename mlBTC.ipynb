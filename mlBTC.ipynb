{
  "nbformat": 4,
  "nbformat_minor": 0,
  "metadata": {
    "colab": {
      "provenance": [],
      "mount_file_id": "1Ck7n94ddFJx9Aizea2j3Xhov6wNlqZDa",
      "authorship_tag": "ABX9TyNokKOZF7NWbh0w84t1k8rB",
      "include_colab_link": true
    },
    "kernelspec": {
      "name": "python3",
      "display_name": "Python 3"
    },
    "language_info": {
      "name": "python"
    }
  },
  "cells": [
    {
      "cell_type": "markdown",
      "metadata": {
        "id": "view-in-github",
        "colab_type": "text"
      },
      "source": [
        "<a href=\"https://colab.research.google.com/github/caendeith/mlBTC/blob/main/mlBTC.ipynb\" target=\"_parent\"><img src=\"https://colab.research.google.com/assets/colab-badge.svg\" alt=\"Open In Colab\"/></a>"
      ]
    },
    {
      "cell_type": "code",
      "source": [
        "import pandas as pd\n",
        "import numpy as np\n",
        "from sklearn.preprocessing import MinMaxScaler\n",
        "\n",
        "# Загрузка данных\n",
        "df = pd.read_csv('/content/drive/MyDrive/btcusd_1-min_data.csv')\n",
        "df['Date'] = pd.to_datetime(df['Timestamp'], unit='s')\n",
        "df = df[['Date', 'Close']].sort_values(by='Date')\n",
        "\n",
        "# Нормализация\n",
        "scaler = MinMaxScaler(feature_range=(0, 1))\n",
        "scaled_data = scaler.fit_transform(df['Close'].values.reshape(-1, 1))\n",
        "\n",
        "print(\"Данные нормализованы\")"
      ],
      "metadata": {
        "colab": {
          "base_uri": "https://localhost:8080/"
        },
        "id": "TY_h5p_Jmlbw",
        "outputId": "d0cce403-83ca-44bc-aa19-5fb8ba5de6d0"
      },
      "execution_count": 13,
      "outputs": [
        {
          "output_type": "stream",
          "name": "stdout",
          "text": [
            "Данные нормализованы\n"
          ]
        }
      ]
    },
    {
      "cell_type": "code",
      "source": [
        "def create_sequences(data, look_back=60):\n",
        "    X, y = [], []\n",
        "    for i in range(len(data) - look_back):\n",
        "        X.append(data[i:i+look_back, 0])\n",
        "        y.append(data[i+look_back, 0])\n",
        "    return np.array(X), np.array(y)\n",
        "\n",
        "X, y = create_sequences(scaled_data, look_back=60)\n",
        "X = X.reshape((X.shape[0], X.shape[1], 1))  # для LSTM"
      ],
      "metadata": {
        "id": "-tCAbIWunKZZ"
      },
      "execution_count": 14,
      "outputs": []
    },
    {
      "cell_type": "code",
      "source": [
        "from keras.models import Sequential\n",
        "from keras.layers import LSTM, Dense\n",
        "\n",
        "# Создаем модель\n",
        "model = Sequential()\n",
        "model.add(LSTM(units=50, return_sequences=True, input_shape=(X.shape[1], 1)))\n",
        "model.add(LSTM(units=50))\n",
        "model.add(Dense(1))\n",
        "\n",
        "# Компиляция\n",
        "model.compile(optimizer='adam', loss='mse')\n",
        "\n",
        "# Обучение\n",
        "model.fit(X, y, epochs=10, batch_size=32, verbose=1)"
      ],
      "metadata": {
        "colab": {
          "base_uri": "https://localhost:8080/"
        },
        "id": "WqqXuCEJr54b",
        "outputId": "0341f5cb-54f3-47b1-dc3b-fcfe5443a1fc"
      },
      "execution_count": null,
      "outputs": [
        {
          "output_type": "stream",
          "name": "stderr",
          "text": [
            "/usr/local/lib/python3.11/dist-packages/keras/src/layers/rnn/rnn.py:200: UserWarning:\n",
            "\n",
            "Do not pass an `input_shape`/`input_dim` argument to a layer. When using Sequential models, prefer using an `Input(shape)` object as the first layer in the model instead.\n",
            "\n"
          ]
        },
        {
          "output_type": "stream",
          "name": "stdout",
          "text": [
            "Epoch 1/10\n",
            "\u001b[1m220850/220850\u001b[0m \u001b[32m━━━━━━━━━━━━━━━━━━━━\u001b[0m\u001b[37m\u001b[0m \u001b[1m12084s\u001b[0m 55ms/step - loss: 1.8414e-05\n",
            "Epoch 2/10\n",
            "\u001b[1m220850/220850\u001b[0m \u001b[32m━━━━━━━━━━━━━━━━━━━━\u001b[0m\u001b[37m\u001b[0m \u001b[1m12566s\u001b[0m 57ms/step - loss: 3.4565e-07\n",
            "Epoch 3/10\n",
            "\u001b[1m220850/220850\u001b[0m \u001b[32m━━━━━━━━━━━━━━━━━━━━\u001b[0m\u001b[37m\u001b[0m \u001b[1m13611s\u001b[0m 62ms/step - loss: 2.4710e-07\n",
            "Epoch 4/10\n",
            "\u001b[1m  2036/220850\u001b[0m \u001b[37m━━━━━━━━━━━━━━━━━━━━\u001b[0m \u001b[1m4:04:10\u001b[0m 67ms/step - loss: 1.7521e-07"
          ]
        }
      ]
    },
    {
      "cell_type": "code",
      "source": [
        "# Последние N дней для прогноза\n",
        "last_sequence = scaled_data[-60:]  # 60 дней назад\n",
        "inputs = last_sequence.copy()\n",
        "\n",
        "forecast = []\n",
        "\n",
        "for _ in range(7):\n",
        "    prediction = model.predict(inputs[np.newaxis, :, :], verbose=0)\n",
        "    forecast.append(prediction[0, 0])\n",
        "    inputs = np.append(inputs[1:], prediction, axis=0)\n",
        "\n",
        "# Обратное преобразование\n",
        "forecast_prices = scaler.inverse_transform(np.array(forecast).reshape(-1, 1)).flatten()\n",
        "\n",
        "# Выводим прогноз\n",
        "dates = pd.date_range(df['Date'].max(), periods=8, freq='D')[1:]\n",
        "print(\"\\nПрогноз цены Bitcoin на неделю вперед:\")\n",
        "for d, p in zip(dates, forecast_prices):\n",
        "    print(f\"{d.strftime('%Y-%m-%d')}: ${p:.2f}\")"
      ],
      "metadata": {
        "id": "lHY2Tv8Jr8f6"
      },
      "execution_count": null,
      "outputs": []
    }
  ]
}